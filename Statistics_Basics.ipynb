{
  "nbformat": 4,
  "nbformat_minor": 0,
  "metadata": {
    "colab": {
      "provenance": []
    },
    "kernelspec": {
      "name": "python3",
      "display_name": "Python 3"
    },
    "language_info": {
      "name": "python"
    }
  },
  "cells": [
    {
      "cell_type": "markdown",
      "source": [
        "#STATISTICS BASICS\n",
        "\n",
        "\n",
        "1. What is statistics, and why is it important?\n",
        "\n",
        "  - Statistics is the science of collecting, analyzing, interpreting, and presenting data. It is important because it helps in making informed decisions based on data patterns and trends.\n",
        "\n",
        "2. What are the two main types of statistics?\n",
        "\n",
        "  - Descriptive statistics, which summarize data from a sample using charts, averages, and measures of spread.\n",
        "\n",
        "  - Inferential statistics, which draw conclusions and make predictions about a population based on sample data.\n",
        "\n",
        "3. What are descriptive statistics?  \n",
        "\n",
        "  - Descriptive statistics involves methods for summarizing data, such as mean, median, mode, range, variance, and standard deviation. It helps understand the basic features of the data in a study.\n",
        "\n",
        "4. What is inferential statistics?\n",
        "\n",
        "  - Inferential statistics use sample data to draw conclusions or make predictions about a larger population through hypothesis testing and confidence intervals.\n",
        "\n",
        "5. What is sampling in statistics?\n",
        "\n",
        "  - Sampling is the process of selecting a subset of individuals from a population to estimate characteristics of the whole population.\n",
        "\n",
        "6. What are the different types of sampling methods?\n",
        "\n",
        "  - Common sampling methods include:\n",
        "  * Simple random sampling\n",
        "  * Stratified sampling\n",
        "  * Systematic sampling\n",
        "  * Cluster sampling\n",
        "  * Convenience sampling\n",
        "\n",
        "7. What is the difference between random and non-random sampling?\n",
        "\n",
        "  - Random sampling gives every member an equal chance of selection, reducing bias.\n",
        "  - Non-random sampling may lead to bias due to selective inclusion.\n",
        "\n",
        "8. Define and give examples of qualitative and quantitative data.\n",
        "\n",
        "  - Qualitative data (categorical): It describes characteristics eg - colors, brands.\n",
        "\n",
        "  - Quantitative data (numerical): It represents counts or measurements eg -  height, salary.\n",
        "\n",
        "9. What are the different types of data in statistics?\n",
        "\n",
        "  - Different types of data in Statistics are Nominal, ordinal, interval, and ratio data.\n",
        "\n",
        "10. Explain nominal, ordinal, interval, and ratio levels of measurement.\n",
        "\n",
        "  - These levels determine the type of statistical analysis:\n",
        "  * Nominal: No order, just categories.\n",
        "  * Ordinal: Ordered but unequal intervals.\n",
        "  * Interval: Equal intervals, but no absolute zero.\n",
        "  * Ratio: Equal intervals with a true zero point.\n",
        "\n",
        "11. What is the measure of central tendency?\n",
        "\n",
        "  - It's a single value that aims to describe a dataset by identifying the central position. The three main measures are mean, median, and mode.\n",
        "\n",
        "12. Define mean, median, and mode.\n",
        "\n",
        "  - Mean: It is the arithmetic average (sum of values ÷ number of values).\n",
        "  - Median: It is the middle value when data is ordered.\n",
        "  - Mode: It is the most frequently occurring value in a dataset.\n",
        "\n",
        "13. What is the significance of the measure of central tendency?\n",
        "\n",
        "  - These measures provide a summary of data to understand where most values lie. They help compare datasets and analyze trends effectively.\n",
        "\n",
        "14. What is variance, and how is it calculated?\n",
        "\n",
        "  - Variance measures how far data points are spread from the mean.\n",
        "  It is calculated by:\n",
        "  * Subtracting the mean from each data point\n",
        "  * Squaring the result\n",
        "  * Averaging those squared differences\n",
        "\n",
        "15. What is standard deviation, and why is it important?\n",
        "\n",
        "  - Standard deviation is the square root of variance. It shows how much variation or spread exists from the mean. A low standard deviation means data points are close to the mean whereas high means they're spread out.\n",
        "\n",
        "16. Define and explain the term range in statistics?\n",
        "\n",
        "  - Range is the difference between the maximum and minimum values in a dataset. It gives a quick sense of how spread out the values are.\n",
        "\n",
        "17. What is the difference between variance and standard deviation?\n",
        "\n",
        "  - Both measure spread, but:\n",
        "  * Variance is in squared units of the data\n",
        "  * Standard Deviation is in the same unit as the data, making it more interpretable.\n",
        "\n",
        "18. What is skewness in a dataset?\n",
        "\n",
        "  - Skewness indicates the asymmetry of the data distribution:\n",
        "  * Positive skew: Tail is on the right.\n",
        "\n",
        "  * Negative skew: Tail is on the left.\n",
        "  \n",
        "  Zero skewness indicates a perfectly symmetrical distribution.\n",
        "\n",
        "19. What does it mean if a dataset is positively or negatively skewed?\n",
        "\n",
        "  - Positive Skew: Mean is greater than median ie, more small values.\n",
        "\n",
        "  - Negative Skew: Mean is less than median ie, more large values.\n",
        "  This helps in understanding bias or trends in the data.\n",
        "\n",
        "20. Define and explain kurtosis.\n",
        "\n",
        "  - Kurtosis measures the \"tailedness\" or peakness of a distribution.\n",
        "\n",
        "  * High kurtosis: More extreme values (heavy tails)\n",
        "\n",
        "  * Low kurtosis: Fewer outliers (light tails)\n",
        "  It helps in understanding risk and outlier presence.\n",
        "\n",
        "21. What is the purpose of covariance?\n",
        "\n",
        "  - Covariance indicates the direction of the linear relationship between two variables. Positive covariance means they move together; negative means they move in opposite directions.\n",
        "\n",
        "22. What does correlation measure in statistics?\n",
        "\n",
        "  - Correlation measures both the direction and strength of a linear relationship between two variables. Values range from -1 to +1:\n",
        "  +1 = perfect positive\n",
        "  0 = no correlation\n",
        "  -1 = perfect negative\n",
        "\n",
        "23. What is the difference between covariance and correlation?\n",
        "\n",
        "  - Covariance: Measures direction but not scale.\n",
        "  - Correlation: It is Standardized version of covariance, which measures both strength and direction, making it more useful for comparison.\n",
        "\n",
        "24. What are some real-world applications of statistics?\n",
        "\n",
        "  - Statistics is used in:\n",
        "  \n",
        "  * Business: Market research, forecasting sales\n",
        "  * Medicine: Drug trials and clinical studies\n",
        "  * Government: Policy making, census data\n",
        "  * Education: Assessing student performance\n",
        "  * Sports: Performance analysis and strategies\n",
        "\n"
      ],
      "metadata": {
        "id": "Nej1a2d-u59k"
      }
    },
    {
      "cell_type": "code",
      "source": [
        "#PRACTICAL QUESTIONS\n",
        "\n",
        "#1. How do you calculate the mean, median, and mode of a dataset?\n",
        "\n",
        "import statistics\n",
        "\n",
        "data = [1, 2, 2, 3, 4, 5]\n",
        "\n",
        "mean = statistics.mean(data)\n",
        "median = statistics.median(data)\n",
        "mode = statistics.mode(data)\n",
        "\n",
        "print(\"Mean:\", mean)\n",
        "print(\"Median:\", median)\n",
        "print(\"Mode:\", mode)\n"
      ],
      "metadata": {
        "colab": {
          "base_uri": "https://localhost:8080/"
        },
        "id": "kpW0anw7CP4T",
        "outputId": "43e342ee-c060-43a3-94de-bc5f5aa183ab"
      },
      "execution_count": 1,
      "outputs": [
        {
          "output_type": "stream",
          "name": "stdout",
          "text": [
            "Mean: 2.8333333333333335\n",
            "Median: 2.5\n",
            "Mode: 2\n"
          ]
        }
      ]
    },
    {
      "cell_type": "code",
      "source": [
        "#2. Write a Python program to compute the variance and standard deviation of a dataset?\n",
        "\n",
        "import statistics\n",
        "\n",
        "data = [1, 2, 3, 4, 5]\n",
        "\n",
        "variance = statistics.variance(data)\n",
        "std_dev = statistics.stdev(data)\n",
        "\n",
        "print(\"Variance:\", variance)\n",
        "print(\"Standard Deviation:\", std_dev)\n"
      ],
      "metadata": {
        "colab": {
          "base_uri": "https://localhost:8080/"
        },
        "id": "W78Kyj4lCwNK",
        "outputId": "009f43a4-6e0a-4c74-a1c5-89fbedd95aff"
      },
      "execution_count": 2,
      "outputs": [
        {
          "output_type": "stream",
          "name": "stdout",
          "text": [
            "Variance: 2.5\n",
            "Standard Deviation: 1.5811388300841898\n"
          ]
        }
      ]
    },
    {
      "cell_type": "code",
      "source": [
        "#3. Create a dataset and classify it into nominal, ordinal, interval, and ratio types.\n",
        "\n",
        "dataset = {\n",
        "    'nominal': ['Red', 'Blue', 'Green'],\n",
        "    'ordinal': ['Poor', 'Average', 'Good', 'Excellent'],\n",
        "    'interval': [10, 20, 30],    # e.g, temperature in Celsius\n",
        "    'ratio': [5, 10, 15, 20]     # e.g, height, weight\n",
        "}\n",
        "print(dataset)\n"
      ],
      "metadata": {
        "colab": {
          "base_uri": "https://localhost:8080/"
        },
        "id": "SJuf-cwzC7z9",
        "outputId": "c58c3504-167b-4b81-f7e5-3f0a2bee8129"
      },
      "execution_count": 6,
      "outputs": [
        {
          "output_type": "stream",
          "name": "stdout",
          "text": [
            "{'nominal': ['Red', 'Blue', 'Green'], 'ordinal': ['Poor', 'Average', 'Good', 'Excellent'], 'interval': [10, 20, 30], 'ratio': [5, 10, 15, 20]}\n"
          ]
        }
      ]
    },
    {
      "cell_type": "code",
      "source": [
        "#4. Implement sampling techniques like random sampling and stratified sampling.\n",
        "\n",
        "import pandas as pd\n",
        "from sklearn.model_selection import train_test_split\n",
        "\n",
        "data = pd.DataFrame({\n",
        "    'Gender': ['M', 'F'] * 50,\n",
        "    'Score': range(100)\n",
        "})\n",
        "\n",
        "random_sample = data.sample(n=10)\n",
        "\n",
        "stratified_sample, _ = train_test_split(data, test_size=0.9, stratify=data['Gender'])\n",
        "\n",
        "print(\"Random Sample:\\n\", random_sample)\n",
        "print(\"\\nStratified Sample:\\n\", stratified_sample)\n"
      ],
      "metadata": {
        "colab": {
          "base_uri": "https://localhost:8080/"
        },
        "id": "aGcagrRaDLMw",
        "outputId": "f069cfa0-0711-4536-c8a4-dad4f827cd24"
      },
      "execution_count": 7,
      "outputs": [
        {
          "output_type": "stream",
          "name": "stdout",
          "text": [
            "Random Sample:\n",
            "    Gender  Score\n",
            "40      M     40\n",
            "19      F     19\n",
            "73      F     73\n",
            "14      M     14\n",
            "30      M     30\n",
            "21      F     21\n",
            "64      M     64\n",
            "12      M     12\n",
            "26      M     26\n",
            "48      M     48\n",
            "\n",
            "Stratified Sample:\n",
            "    Gender  Score\n",
            "72      M     72\n",
            "12      M     12\n",
            "48      M     48\n",
            "23      F     23\n",
            "32      M     32\n",
            "28      M     28\n",
            "55      F     55\n",
            "1       F      1\n",
            "47      F     47\n",
            "93      F     93\n"
          ]
        }
      ]
    },
    {
      "cell_type": "code",
      "source": [
        "#5. Write a Python function to calculate the range of a dataset.\n",
        "\n",
        "def calculate_range(data):\n",
        "    return max(data) - min(data)\n",
        "\n",
        "data = [1, 2, 3, 4, 5]\n",
        "range_value = calculate_range(data)\n",
        "print(\"Range:\", range_value)\n"
      ],
      "metadata": {
        "colab": {
          "base_uri": "https://localhost:8080/"
        },
        "id": "duN0PqKzDrgv",
        "outputId": "267a7ce8-801f-49d0-a738-2db0fb10036f"
      },
      "execution_count": 8,
      "outputs": [
        {
          "output_type": "stream",
          "name": "stdout",
          "text": [
            "Range: 4\n"
          ]
        }
      ]
    },
    {
      "cell_type": "code",
      "source": [
        "#6. Create a dataset and plot its histogram to visualize skewness.\n",
        "\n",
        "import matplotlib.pyplot as plt\n",
        "\n",
        "data = [1, 2, 2, 3, 3, 4, 4, 5, 6, 7]\n",
        "\n",
        "plt.hist(data, bins=5)\n",
        "plt.title('Histogram')\n",
        "plt.xlabel('Value')\n",
        "plt.ylabel('Frequency')\n",
        "plt.show()\n",
        "\n",
        "\n"
      ],
      "metadata": {
        "colab": {
          "base_uri": "https://localhost:8080/",
          "height": 472
        },
        "id": "I014HG8ZD83p",
        "outputId": "0f6d3abe-1aaf-43c2-d2e4-260c926b9595"
      },
      "execution_count": 9,
      "outputs": [
        {
          "output_type": "display_data",
          "data": {
            "text/plain": [
              "<Figure size 640x480 with 1 Axes>"
            ],
            "image/png": "[encoded data removed]"
          },
          "metadata": {}
        }
      ]
    },
    {
      "cell_type": "code",
      "source": [
        "#7. Calculate skewness and kurtosis of a dataset using Python libraries.\n",
        "\n",
        "import scipy.stats as stats\n",
        "\n",
        "data = [1, 2, 2, 3, 3, 4, 4, 5, 6, 7]\n",
        "\n",
        "skewness = stats.skew(data)\n",
        "kurtosis = stats.kurtosis(data)\n",
        "\n",
        "print(\"Skewness:\", skewness)\n",
        "print(\"Kurtosis:\", kurtosis)"
      ],
      "metadata": {
        "colab": {
          "base_uri": "https://localhost:8080/"
        },
        "id": "DFQ0eBG0EJ1u",
        "outputId": "6b82ed6e-6f02-4532-d3cd-dfa0f808dc91"
      },
      "execution_count": 11,
      "outputs": [
        {
          "output_type": "stream",
          "name": "stdout",
          "text": [
            "Skewness: 0.3505362845878099\n",
            "Kurtosis: -0.8670917401810931\n"
          ]
        }
      ]
    },
    {
      "cell_type": "code",
      "source": [
        "#8. Generate a dataset and demonstrate positive and negative skewness.\n",
        "\n",
        "import numpy as np\n",
        "\n",
        "positive_skew = np.random.exponential(scale=2, size=1000)\n",
        "negative_skew = -1 * np.random.exponential(scale=2, size=1000)\n",
        "\n",
        "plt.hist(positive_skew, bins=30)\n",
        "plt.title(\"Positive Skew\")\n",
        "plt.show()\n",
        "\n",
        "plt.hist(negative_skew, bins=30)\n",
        "plt.title(\"Negative Skew\")\n",
        "plt.show()\n",
        "\n",
        "\n"
      ],
      "metadata": {
        "colab": {
          "base_uri": "https://localhost:8080/",
          "height": 887
        },
        "id": "EnX-hn1yEVCr",
        "outputId": "2b986774-67d1-4099-e208-3e6969c96d82"
      },
      "execution_count": 13,
      "outputs": [
        {
          "output_type": "display_data",
          "data": {
            "text/plain": [
              "<Figure size 640x480 with 1 Axes>"
            ],
            "image/png": "[encoded data removed]"
          },
          "metadata": {}
        },
        {
          "output_type": "display_data",
          "data": {
            "text/plain": [
              "<Figure size 640x480 with 1 Axes>"
            ],
            "image/png": "[encoded data removed]"
          },
          "metadata": {}
        }
      ]
    },
    {
      "cell_type": "code",
      "source": [
        "#9. Write a Python script to calculate covariance between two datasets.\n",
        "\n",
        "import numpy as np\n",
        "\n",
        "x = [2, 4, 6, 8]\n",
        "y = [1, 3, 2, 5]\n",
        "\n",
        "cov_matrix = np.cov(x, y)\n",
        "print(\"Covariance:\", cov_matrix[0][1])\n"
      ],
      "metadata": {
        "colab": {
          "base_uri": "https://localhost:8080/"
        },
        "id": "AViZvMvfElbO",
        "outputId": "71a8e8cf-ba9c-405f-a72a-c684fe4f0a67"
      },
      "execution_count": 14,
      "outputs": [
        {
          "output_type": "stream",
          "name": "stdout",
          "text": [
            "Covariance: 3.6666666666666665\n"
          ]
        }
      ]
    },
    {
      "cell_type": "code",
      "source": [
        "#10. Write a Python script to calculate the correlation coefficient between two datasets.\n",
        "\n",
        "import numpy as np\n",
        "\n",
        "x = [2, 4, 6, 8]\n",
        "y = [1, 3, 2, 5]\n",
        "\n",
        "corr_matrix = np.corrcoef(x, y)\n",
        "print(\"Correlation Coefficient:\", corr_matrix[0][1])"
      ],
      "metadata": {
        "colab": {
          "base_uri": "https://localhost:8080/"
        },
        "id": "EkLn5QePE57J",
        "outputId": "141894ba-e427-4a03-8647-c4703b466092"
      },
      "execution_count": 15,
      "outputs": [
        {
          "output_type": "stream",
          "name": "stdout",
          "text": [
            "Correlation Coefficient: 0.8315218406202999\n"
          ]
        }
      ]
    },
    {
      "cell_type": "code",
      "source": [
        "#11. Create a scatter plot to visualize the relationship between two variables.\n",
        "\n",
        "import matplotlib.pyplot as plt\n",
        "\n",
        "x = [1, 2, 3, 4]\n",
        "y = [2, 4, 5, 7]\n",
        "\n",
        "plt.scatter(x, y)\n",
        "plt.title(\"Scatter Plot\")\n",
        "plt.xlabel(\"X\")\n",
        "plt.ylabel(\"Y\")\n",
        "plt.show()\n"
      ],
      "metadata": {
        "colab": {
          "base_uri": "https://localhost:8080/",
          "height": 472
        },
        "id": "V8xTxXGyFBhN",
        "outputId": "58bdcc7d-ff99-40e8-8f65-d9847bd89c71"
      },
      "execution_count": 16,
      "outputs": [
        {
          "output_type": "display_data",
          "data": {
            "text/plain": [
              "<Figure size 640x480 with 1 Axes>"
            ],
            "image/png": "[encoded data removed]"
          },
          "metadata": {}
        }
      ]
    },
    {
      "cell_type": "code",
      "source": [
        "#12.  Implement and compare simple random sampling and systematic sampling.\n",
        "\n",
        "import pandas as pd\n",
        "import numpy as np\n",
        "\n",
        "data = pd.DataFrame({'Value': range(100)})\n",
        "\n",
        "\n",
        "simple_sample = data.sample(n=10)\n",
        "\n",
        "\n",
        "step = len(data) // 10\n",
        "systematic_sample = data.iloc[::step]\n",
        "\n",
        "print(\"Simple Sample:\\n\", simple_sample)\n",
        "print(\"Systematic Sample:\\n\", systematic_sample)\n"
      ],
      "metadata": {
        "colab": {
          "base_uri": "https://localhost:8080/"
        },
        "id": "voYjMLPLFLhO",
        "outputId": "793b6804-b86f-4276-bf8b-c6f848a7c972"
      },
      "execution_count": 17,
      "outputs": [
        {
          "output_type": "stream",
          "name": "stdout",
          "text": [
            "Simple Sample:\n",
            "     Value\n",
            "24     24\n",
            "89     89\n",
            "74     74\n",
            "45     45\n",
            "86     86\n",
            "22     22\n",
            "60     60\n",
            "82     82\n",
            "16     16\n",
            "33     33\n",
            "Systematic Sample:\n",
            "     Value\n",
            "0       0\n",
            "10     10\n",
            "20     20\n",
            "30     30\n",
            "40     40\n",
            "50     50\n",
            "60     60\n",
            "70     70\n",
            "80     80\n",
            "90     90\n"
          ]
        }
      ]
    },
    {
      "cell_type": "code",
      "source": [
        "#13. Calculate the mean, median, and mode of grouped data.\n",
        "\n",
        "import pandas as pd\n",
        "from statistics import mean, median, mode\n",
        "\n",
        "grouped_data = {\n",
        "    'Group': ['A', 'B', 'C'],\n",
        "    'Scores': [[50, 52, 54], [60, 62, 64], [70, 72, 74]]\n",
        "}\n",
        "\n",
        "df = pd.DataFrame(grouped_data)\n",
        "df['Mean'] = df['Scores'].apply(mean)\n",
        "df['Median'] = df['Scores'].apply(median)\n",
        "df['Mode'] = df['Scores'].apply(lambda x: mode(x))\n",
        "\n",
        "print(df)\n"
      ],
      "metadata": {
        "colab": {
          "base_uri": "https://localhost:8080/"
        },
        "id": "geZzv1AvFWZO",
        "outputId": "3c0f74ce-3e25-40d1-9cc8-127bdc8d3993"
      },
      "execution_count": 18,
      "outputs": [
        {
          "output_type": "stream",
          "name": "stdout",
          "text": [
            "  Group        Scores  Mean  Median  Mode\n",
            "0     A  [50, 52, 54]    52      52    50\n",
            "1     B  [60, 62, 64]    62      62    60\n",
            "2     C  [70, 72, 74]    72      72    70\n"
          ]
        }
      ]
    },
    {
      "cell_type": "code",
      "source": [
        "#14. Simulate data using Python and calculate its central tendency and dispersion.\n",
        "\n",
        "import numpy as np\n",
        "import statistics\n",
        "\n",
        "data = np.random.normal(loc=50, scale=10, size=100)\n",
        "\n",
        "mean_val = statistics.mean(data)\n",
        "median_val = statistics.median(data)\n",
        "std_dev = statistics.stdev(data)\n",
        "variance = statistics.variance(data)\n",
        "\n",
        "print(f\"Mean: {mean_val}\\nMedian: {median_val}\\nStd Dev: {std_dev}\\nVariance: {variance}\")\n",
        "\n",
        "\n",
        "\n"
      ],
      "metadata": {
        "colab": {
          "base_uri": "https://localhost:8080/"
        },
        "id": "z5U-coNqFkR6",
        "outputId": "8d11eb86-b30c-4620-a4ff-bc94f2a8d84e"
      },
      "execution_count": 19,
      "outputs": [
        {
          "output_type": "stream",
          "name": "stdout",
          "text": [
            "Mean: 49.82950208408084\n",
            "Median: 49.54059321098901\n",
            "Std Dev: 9.723477953837357\n",
            "Variance: 94.54602351876112\n"
          ]
        }
      ]
    },
    {
      "cell_type": "code",
      "source": [
        "#15. Use NumPy or pandas to summarize a dataset’s descriptive statistics.\n",
        "\n",
        "import pandas as pd\n",
        "import numpy as np\n",
        "\n",
        "data = pd.DataFrame({'values': np.random.randn(100)})\n",
        "print(data.describe())\n"
      ],
      "metadata": {
        "colab": {
          "base_uri": "https://localhost:8080/"
        },
        "id": "O_94NOd-Ftz_",
        "outputId": "c1899713-7e69-48b5-8c1c-851633e74cf6"
      },
      "execution_count": 20,
      "outputs": [
        {
          "output_type": "stream",
          "name": "stdout",
          "text": [
            "           values\n",
            "count  100.000000\n",
            "mean     0.031474\n",
            "std      0.873985\n",
            "min     -1.895876\n",
            "25%     -0.568430\n",
            "50%      0.013025\n",
            "75%      0.574319\n",
            "max      2.212860\n"
          ]
        }
      ]
    },
    {
      "cell_type": "code",
      "source": [
        "#16. Plot a boxplot to understand the spread and identify outliers.\n",
        "\n",
        "import seaborn as sns\n",
        "import matplotlib.pyplot as plt\n",
        "\n",
        "sns.boxplot(data=data)\n",
        "plt.title(\"Boxplot\")\n",
        "plt.show()\n",
        "\n"
      ],
      "metadata": {
        "colab": {
          "base_uri": "https://localhost:8080/",
          "height": 452
        },
        "id": "L7nTDFU6Hm6x",
        "outputId": "76de24d0-02e0-4220-acdd-92efe9a6af35"
      },
      "execution_count": 21,
      "outputs": [
        {
          "output_type": "display_data",
          "data": {
            "text/plain": [
              "<Figure size 640x480 with 1 Axes>"
            ],
            "image/png": "[encoded data removed]"
          },
          "metadata": {}
        }
      ]
    },
    {
      "cell_type": "code",
      "source": [
        "#17. Calculate the interquartile range (IQR) of a dataset.\n",
        "\n",
        "Q1 = data['values'].quantile(0.25)\n",
        "Q3 = data['values'].quantile(0.75)\n",
        "IQR = Q3 - Q1\n",
        "print(\"Interquartile Range:\", IQR)\n"
      ],
      "metadata": {
        "colab": {
          "base_uri": "https://localhost:8080/"
        },
        "id": "FoGHBmxuH10H",
        "outputId": "5eb0bd83-fd2e-4aba-e0b4-8393b413cbfb"
      },
      "execution_count": 22,
      "outputs": [
        {
          "output_type": "stream",
          "name": "stdout",
          "text": [
            "Interquartile Range: 1.142749157701961\n"
          ]
        }
      ]
    },
    {
      "cell_type": "code",
      "source": [
        "#18. Implement Z-score normalization and explain its significance.\n",
        "\n",
        "from scipy import stats\n",
        "\n",
        "data = [1, 2, 3, 4, 5]\n",
        "z_scores = stats.zscore(data)\n",
        "\n",
        "print(\"Z-scores:\", z_scores)"
      ],
      "metadata": {
        "colab": {
          "base_uri": "https://localhost:8080/"
        },
        "id": "nGazre4fIA7_",
        "outputId": "0d09b8d2-bac2-4b73-b713-63aebc7dcb70"
      },
      "execution_count": 25,
      "outputs": [
        {
          "output_type": "stream",
          "name": "stdout",
          "text": [
            "Z-scores: [-1.41421356 -0.70710678  0.          0.70710678  1.41421356]\n"
          ]
        }
      ]
    },
    {
      "cell_type": "code",
      "source": [
        "#19. Compare two datasets using their standard deviations.\n",
        "\n",
        "data1 = np.random.normal(50, 5, 100)\n",
        "data2 = np.random.normal(50, 15, 100)\n",
        "\n",
        "print(\"Std Dev of Data1:\", np.std(data1))\n",
        "print(\"Std Dev of Data2:\", np.std(data2))\n"
      ],
      "metadata": {
        "colab": {
          "base_uri": "https://localhost:8080/"
        },
        "id": "a12V5yICILTn",
        "outputId": "60b2613a-843f-4483-920d-42132a0e515f"
      },
      "execution_count": 26,
      "outputs": [
        {
          "output_type": "stream",
          "name": "stdout",
          "text": [
            "Std Dev of Data1: 4.882780880667337\n",
            "Std Dev of Data2: 14.408065791725198\n"
          ]
        }
      ]
    },
    {
      "cell_type": "code",
      "source": [
        "#20. Write a Python program to visualize covariance using a heatmap.\n",
        "\n",
        "df = pd.DataFrame({'x': data1, 'y': data2})\n",
        "cov_matrix = df.cov()\n",
        "\n",
        "sns.heatmap(cov_matrix, annot=True)\n",
        "plt.title(\"Covariance Heatmap\")\n",
        "plt.show()\n"
      ],
      "metadata": {
        "colab": {
          "base_uri": "https://localhost:8080/",
          "height": 452
        },
        "id": "5NGdr843IhRQ",
        "outputId": "3779e1b6-4a0e-4d8d-86ab-bf70a7b44f1f"
      },
      "execution_count": 27,
      "outputs": [
        {
          "output_type": "display_data",
          "data": {
            "text/plain": [
              "<Figure size 640x480 with 2 Axes>"
            ],
            "image/png": "[encoded data removed]"
          },
          "metadata": {}
        }
      ]
    },
    {
      "cell_type": "code",
      "source": [
        "#21. Use seaborn to create a correlation matrix for a dataset.\n",
        "\n",
        "corr_matrix = df.corr()\n",
        "sns.heatmap(corr_matrix, annot=True, cmap=\"coolwarm\")\n",
        "plt.title(\"Correlation Matrix\")\n",
        "plt.show()\n"
      ],
      "metadata": {
        "colab": {
          "base_uri": "https://localhost:8080/",
          "height": 452
        },
        "id": "-EAGedjyIuNt",
        "outputId": "a3483ad5-c555-4464-a026-4053d691e17a"
      },
      "execution_count": 28,
      "outputs": [
        {
          "output_type": "display_data",
          "data": {
            "text/plain": [
              "<Figure size 640x480 with 2 Axes>"
            ],
            "image/png": "[encoded data removed]"
          },
          "metadata": {}
        }
      ]
    },
    {
      "cell_type": "code",
      "source": [
        "#22. Generate a dataset and implement both variance and standard deviation computations.\n",
        "\n",
        "generated_data = np.random.randint(1, 100, size=50)\n",
        "\n",
        "print(\"Variance:\", np.var(generated_data))\n",
        "print(\"Standard Deviation:\", np.std(generated_data))\n"
      ],
      "metadata": {
        "colab": {
          "base_uri": "https://localhost:8080/"
        },
        "id": "cynWSZI7I7vi",
        "outputId": "1e9b0939-f859-4e25-a57e-283b53603a1e"
      },
      "execution_count": 29,
      "outputs": [
        {
          "output_type": "stream",
          "name": "stdout",
          "text": [
            "Variance: 693.3444000000001\n",
            "Standard Deviation: 26.331433686755457\n"
          ]
        }
      ]
    },
    {
      "cell_type": "code",
      "source": [
        "#23. Visualize skewness and kurtosis using Python libraries like matplotlib or seaborn.\n",
        "\n",
        "from scipy.stats import skew, kurtosis\n",
        "\n",
        "sns.histplot(generated_data, kde=True)\n",
        "plt.title(\"Histogram with KDE\")\n",
        "plt.show()\n",
        "\n",
        "print(\"Skewness:\", skew(generated_data))\n",
        "print(\"Kurtosis:\", kurtosis(generated_data))\n"
      ],
      "metadata": {
        "colab": {
          "base_uri": "https://localhost:8080/",
          "height": 487
        },
        "id": "v8psoYjmJEa6",
        "outputId": "0035d08e-10c1-4938-e176-0bd608ed82c2"
      },
      "execution_count": 31,
      "outputs": [
        {
          "output_type": "display_data",
          "data": {
            "text/plain": [
              "<Figure size 640x480 with 1 Axes>"
            ],
            "image/png": "[encoded data removed]"
          },
          "metadata": {}
        },
        {
          "output_type": "stream",
          "name": "stdout",
          "text": [
            "Skewness: 0.4212244628070756\n",
            "Kurtosis: -0.7504698849134384\n"
          ]
        }
      ]
    },
    {
      "cell_type": "code",
      "source": [
        "#24. Implement the Pearson and Spearman correlation coefficients for a dataset.\n",
        "\n",
        "from scipy.stats import pearsonr, spearmanr\n",
        "\n",
        "pearson_corr, _ = pearsonr(data1, data2)\n",
        "spearman_corr, _ = spearmanr(data1, data2)\n",
        "\n",
        "print(\"Pearson Correlation:\", pearson_corr)\n",
        "print(\"Spearman Correlation:\", spearman_corr)\n"
      ],
      "metadata": {
        "colab": {
          "base_uri": "https://localhost:8080/"
        },
        "id": "-1ix1Rl-TLZ7",
        "outputId": "e2df18ba-6c98-43e2-cc20-3f229cf9aaf1"
      },
      "execution_count": 32,
      "outputs": [
        {
          "output_type": "stream",
          "name": "stdout",
          "text": [
            "Pearson Correlation: -0.008491654434396926\n",
            "Spearman Correlation: -0.00204020402040204\n"
          ]
        }
      ]
    }
  ]
}